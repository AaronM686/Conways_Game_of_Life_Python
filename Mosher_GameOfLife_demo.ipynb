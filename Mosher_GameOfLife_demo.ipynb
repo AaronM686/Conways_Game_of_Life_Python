{
 "cells": [
  {
   "cell_type": "markdown",
   "metadata": {},
   "source": [
    "# Aaron Mosher\n",
    "\n",
    "Jupyter notebook implementation of Conway's Game of Life (Cellular Automaton).\n",
    "this is a Python notebook using Python 3.8.8\n",
    "\n",
    "Yes I know that other implementations of this already exist. Example [\"lifepy\"](https://pythonawesome.com/run-conways-game-of-life-simulations-with-python-that-can-be-printed-into-terminal).\n"
   ]
  },
  {
   "cell_type": "code",
   "execution_count": 109,
   "metadata": {},
   "outputs": [
    {
     "name": "stdout",
     "output_type": "stream",
     "text": [
      "3.8.8 (default, Apr 13 2021, 19:58:26) \n",
      "[GCC 7.3.0]\n"
     ]
    }
   ],
   "source": [
    "import sys\n",
    "print(sys.version)\n",
    "\n",
    "# on my computer this prints:\n",
    "# 3.8.8 (default, Apr 13 2021, 19:58:26) \n",
    "# [GCC 7.3.0]\n",
    "# (I am using Visual Studio Code Jupyter notebook to write this, with Conda base environment Python 3.8.8)"
   ]
  },
  {
   "cell_type": "code",
   "execution_count": 110,
   "metadata": {},
   "outputs": [],
   "source": [
    "# import some prerequisites to help us. Numpy for math arrays, and PIL helps us save images as output.\n",
    "import numpy as np\n",
    "from PIL import Image"
   ]
  },
  {
   "cell_type": "code",
   "execution_count": 111,
   "metadata": {},
   "outputs": [
    {
     "name": "stdout",
     "output_type": "stream",
     "text": [
      "test output\n"
     ]
    }
   ],
   "source": [
    "print (\"test output\")"
   ]
  },
  {
   "cell_type": "code",
   "execution_count": 117,
   "metadata": {},
   "outputs": [
    {
     "name": "stdout",
     "output_type": "stream",
     "text": [
      "[[0 0 0 0 0 0 0 0 0 0 0 0 0 0]\n",
      " [0 0 0 0 0 0 0 0 0 0 0 0 0 0]\n",
      " [0 0 0 0 0 0 0 0 0 0 0 0 0 0]\n",
      " [0 0 0 0 1 1 1 0 0 0 0 0 0 0]\n",
      " [0 0 0 0 0 0 0 0 0 0 0 0 0 0]\n",
      " [0 0 0 0 0 0 0 0 0 0 0 0 0 0]\n",
      " [0 0 0 0 0 0 0 0 0 0 0 0 0 0]\n",
      " [0 0 0 0 0 0 1 1 0 0 0 0 0 0]\n",
      " [0 0 0 0 0 0 1 1 0 0 0 0 0 0]\n",
      " [0 0 0 0 0 0 0 0 1 1 0 0 0 0]\n",
      " [0 0 0 0 0 0 0 0 1 1 0 0 0 0]\n",
      " [0 0 0 0 0 0 0 0 0 0 0 0 0 0]\n",
      " [0 0 0 0 0 0 0 0 0 0 0 0 0 0]\n",
      " [0 0 0 0 0 0 0 0 0 0 0 0 0 0]\n",
      " [0 0 0 0 0 0 0 0 1 1 1 0 0 0]\n",
      " [0 0 0 0 0 0 0 1 1 1 0 0 0 0]\n",
      " [0 0 0 0 0 0 0 0 0 0 0 0 0 0]\n",
      " [0 0 0 0 0 0 0 0 0 0 0 0 0 0]]\n",
      "(18, 14)\n"
     ]
    }
   ],
   "source": [
    "# for this simple example, just using a 256x256 array.\n",
    "# For this case, we only care about integers of [0,1] (False vs True values for the cells)\n",
    "# note that randint specifies the interval as \"one above teh largest signed integer\" so range of [0,2) gives us values of either 0 or 1 in the Output.\n",
    "\n",
    "# You can use random just to see what happens.\n",
    "# StartArray = np.random.randint(low=0, high = 2, size=(256,256))\n",
    "\n",
    "# this is a test sequence of oscillators for testing purposes\n",
    "TestArray = np.array(  [[0,0,0,0,0,0,0,0,0,0,0,0,0,0], \\\n",
    "                        [0,0,0,0,0,0,0,0,0,0,0,0,0,0], \\\n",
    "                        [0,0,0,0,0,0,0,0,0,0,0,0,0,0], \\\n",
    "                        [0,0,0,0,1,1,1,0,0,0,0,0,0,0], \\\n",
    "                        [0,0,0,0,0,0,0,0,0,0,0,0,0,0], \\\n",
    "                        [0,0,0,0,0,0,0,0,0,0,0,0,0,0], \\\n",
    "                        [0,0,0,0,0,0,0,0,0,0,0,0,0,0], \\\n",
    "                        [0,0,0,0,0,0,1,1,0,0,0,0,0,0], \\\n",
    "                        [0,0,0,0,0,0,1,1,0,0,0,0,0,0], \\\n",
    "                        [0,0,0,0,0,0,0,0,1,1,0,0,0,0], \\\n",
    "                        [0,0,0,0,0,0,0,0,1,1,0,0,0,0], \\\n",
    "                        [0,0,0,0,0,0,0,0,0,0,0,0,0,0], \\\n",
    "                        [0,0,0,0,0,0,0,0,0,0,0,0,0,0], \\\n",
    "                        [0,0,0,0,0,0,0,0,0,0,0,0,0,0], \\\n",
    "                        [0,0,0,0,0,0,0,0,1,1,1,0,0,0], \\\n",
    "                        [0,0,0,0,0,0,0,1,1,1,0,0,0,0], \\\n",
    "                        [0,0,0,0,0,0,0,0,0,0,0,0,0,0],\\\n",
    "                        [0,0,0,0,0,0,0,0,0,0,0,0,0,0] ])\n",
    "\n",
    "#print (TestArray)\n",
    "#StartArray = np.zeros(shape=(256,256),dtype=np.int8)\n",
    "#StartArray[3:16,3:13] += TestArray\n",
    "StartArray = TestArray\n",
    "print(StartArray)\n",
    "print(StartArray.shape)"
   ]
  },
  {
   "cell_type": "code",
   "execution_count": 118,
   "metadata": {},
   "outputs": [
    {
     "name": "stdout",
     "output_type": "stream",
     "text": [
      "(18, 14)\n"
     ]
    },
    {
     "data": {
      "image/png": "[encoded data removed]",
      "text/plain": [
       "<Figure size 432x288 with 1 Axes>"
      ]
     },
     "metadata": {
      "needs_background": "light"
     },
     "output_type": "display_data"
    }
   ],
   "source": [
    "#verify shape and data.\n",
    "print(StartArray.shape)\n",
    "\n",
    "%matplotlib inline \n",
    "from matplotlib import pyplot\n",
    "pyplot.imshow(StartArray, interpolation='none')\n",
    "pyplot.show()\n"
   ]
  },
  {
   "cell_type": "markdown",
   "metadata": {},
   "source": [
    "Now that all that setup is done, we can get to the rules of the Game of Life.\n",
    " There's a few different ways to slice this, but just for simplicity I'll do a naive nested-for loop.\n",
    " I know this is _extremely_ slow and wastefull because it blocks on the Python interpreter for _every_ operation, \n",
    " but just for the purpose of illustration.\n",
    "\n",
    " A better implementation would be to use something like numpy.vectorize Or lambda functions for the NDarray.\n",
    " but hey if you really cared about __runtime speed__ you wouldn't be here (inside an Jupyter notebook), you'd be in C++ with CUDA."
   ]
  },
  {
   "cell_type": "code",
   "execution_count": 119,
   "metadata": {},
   "outputs": [],
   "source": [
    "\n",
    "#\n",
    "# The \"Tick\" function takes in the previous game state and caculates and returns the Next game state.\n",
    "# In this case, the \"Tick_NestedFor\" function is a naive nested-for-loop implementation.\n",
    "def Tick_NestedLoops (ndarray_in: np.ndarray) -> np.ndarray:\n",
    "    #print(\"\\tDebug: start...\")\n",
    "    #\n",
    "    # I know that this nested-Loop implementation is a strange pattern to use for Python, but there is a reason I do this because its \n",
    "    #    analagous to the C++ implementation I'll make later.\n",
    "    # It doesn't seem to make much difference in Python but for C++ and CUDA you need to know if your data is stored in row-major or Column major \n",
    "    #    format for faster memory access patterns on your inner-most loop (similar issue happens in NCHW vs NHWC tensor array for different architectures).\n",
    "    #    NDarrays are [row,col].\n",
    "    #\n",
    "    # column iterator \"i\"\n",
    "    j = 1; # note that these start at 1, not Zero, to avoid the boundary / edge conditions.\n",
    "    NumCols_j = ndarray_in.shape[1] -1\n",
    "\n",
    "    # row iterator \"j\"\n",
    "    i = 1;\n",
    "    NumRows_i = ndarray_in.shape[0] -1\n",
    "\n",
    "    # print(\"Size input array: \", NumRows_i, NumCols_j)\n",
    "\n",
    "    # setup output array\n",
    "    ndarray_out = np.zeros_like(ndarray_in)\n",
    "\n",
    "    while (i < NumRows_i):\n",
    "        j = 1 # restart the column counter for each new row.\n",
    "        while (j < NumCols_j):\n",
    "            #print(\"debug \",i,j)\n",
    "\n",
    "            int_LiveNeighborsCount = 0\n",
    "            # could be implemented as another loop using 3x3 convolution kernel, but here is unrolled into a sequence of 8 statements (each cell has 8 possible neighbors)\n",
    "            if (ndarray_in[i+1,j+1] > 0):\n",
    "                int_LiveNeighborsCount += 1\n",
    "            if (ndarray_in[i+1,j] > 0):\n",
    "                int_LiveNeighborsCount += 1\n",
    "            if (ndarray_in[i+1,j-1] > 0):\n",
    "                int_LiveNeighborsCount += 1\n",
    "\n",
    "            if (ndarray_in[i,j+1] > 0):\n",
    "                int_LiveNeighborsCount += 1\n",
    "            if (ndarray_in[i,j-1] > 0):\n",
    "                int_LiveNeighborsCount += 1\n",
    "\n",
    "            if (ndarray_in[i-1,j+1] > 0):\n",
    "                int_LiveNeighborsCount += 1\n",
    "            if (ndarray_in[i-1,j] > 0):\n",
    "                int_LiveNeighborsCount += 1\n",
    "            if (ndarray_in[i-1,j-1] > 0):\n",
    "                int_LiveNeighborsCount += 1\n",
    "\n",
    "            # now apply rules based on number of live neighbors: Note that the output array starts as Zero's initially.\n",
    "            if (ndarray_in[i,j] > 0): # if cell was already alive\n",
    "                if (int_LiveNeighborsCount == 2) or (int_LiveNeighborsCount == 3):\n",
    "                    ndarray_out[i,j] = 1\n",
    "            elif (int_LiveNeighborsCount == 3):\n",
    "                    ndarray_out[i,j] = 1\n",
    "            j += 1\n",
    "        # end \"while i\" columns loop\n",
    "\n",
    "        i += 1\n",
    "    # end \"while j\" rows loop\n",
    "    # print(\"\\tDebug: done.\")\n",
    "    return ndarray_out\n",
    "# end function \"def Tick (nparray_in: np.ndarray) -> np.ndarray:\""
   ]
  },
  {
   "cell_type": "code",
   "execution_count": 120,
   "metadata": {},
   "outputs": [],
   "source": [
    "# this of course runs very slow because its not vectorized...\n",
    "ndarray_result = Tick_NestedLoops(StartArray)"
   ]
  },
  {
   "cell_type": "code",
   "execution_count": 121,
   "metadata": {},
   "outputs": [
    {
     "data": {
      "image/png": "[encoded data removed]",
      "text/plain": [
       "<Figure size 432x288 with 1 Axes>"
      ]
     },
     "metadata": {
      "needs_background": "light"
     },
     "output_type": "display_data"
    }
   ],
   "source": [
    "\n",
    "pyplot.imshow(ndarray_result, interpolation='nearest')\n",
    "pyplot.show()\n",
    "# ndarray_result = Tick_NestedLoops(StartArray)"
   ]
  },
  {
   "cell_type": "code",
   "execution_count": 122,
   "metadata": {},
   "outputs": [
    {
     "data": {
      "image/png": "[encoded data removed]",
      "text/plain": [
       "<Figure size 432x288 with 1 Axes>"
      ]
     },
     "metadata": {
      "needs_background": "light"
     },
     "output_type": "display_data"
    },
    {
     "data": {
      "image/png": "[encoded data removed]",
      "text/plain": [
       "<Figure size 432x288 with 1 Axes>"
      ]
     },
     "metadata": {
      "needs_background": "light"
     },
     "output_type": "display_data"
    },
    {
     "data": {
      "image/png": "[encoded data removed]",
      "text/plain": [
       "<Figure size 432x288 with 1 Axes>"
      ]
     },
     "metadata": {
      "needs_background": "light"
     },
     "output_type": "display_data"
    },
    {
     "data": {
      "image/png": "[encoded data removed]",
      "text/plain": [
       "<Figure size 432x288 with 1 Axes>"
      ]
     },
     "metadata": {
      "needs_background": "light"
     },
     "output_type": "display_data"
    },
    {
     "data": {
      "image/png": "[encoded data removed]",
      "text/plain": [
       "<Figure size 432x288 with 1 Axes>"
      ]
     },
     "metadata": {
      "needs_background": "light"
     },
     "output_type": "display_data"
    },
    {
     "data": {
      "image/png": "[encoded data removed]",
      "text/plain": [
       "<Figure size 432x288 with 1 Axes>"
      ]
     },
     "metadata": {
      "needs_background": "light"
     },
     "output_type": "display_data"
    },
    {
     "data": {
      "image/png": "[encoded data removed]",
      "text/plain": [
       "<Figure size 432x288 with 1 Axes>"
      ]
     },
     "metadata": {
      "needs_background": "light"
     },
     "output_type": "display_data"
    },
    {
     "data": {
      "image/png": "[encoded data removed]",
      "text/plain": [
       "<Figure size 432x288 with 1 Axes>"
      ]
     },
     "metadata": {
      "needs_background": "light"
     },
     "output_type": "display_data"
    },
    {
     "data": {
      "image/png": "[encoded data removed]",
      "text/plain": [
       "<Figure size 432x288 with 1 Axes>"
      ]
     },
     "metadata": {
      "needs_background": "light"
     },
     "output_type": "display_data"
    },
    {
     "data": {
      "image/png": "[encoded data removed]",
      "text/plain": [
       "<Figure size 432x288 with 1 Axes>"
      ]
     },
     "metadata": {
      "needs_background": "light"
     },
     "output_type": "display_data"
    }
   ],
   "source": [
    "TickCounter = 0\n",
    "\n",
    "while (TickCounter < 10):\n",
    "    StartArray = np.copy(ndarray_result)\n",
    "    ndarray_result = Tick_NestedLoops(StartArray)\n",
    "    # ndarray_result *= 255  # scale for mathplotlib output, # this is not actually necessary, MatPlotLib handles it fine. \n",
    "    # print (ndarray_result)\n",
    "    %matplotlib inline \n",
    "    from matplotlib import pyplot\n",
    "    pyplot.imshow(ndarray_result, interpolation='nearest')\n",
    "    pyplot.show()\n",
    "    TickCounter += 1"
   ]
  },
  {
   "cell_type": "code",
   "execution_count": null,
   "metadata": {},
   "outputs": [],
   "source": []
  }
 ],
 "metadata": {
  "interpreter": {
   "hash": "767d51c1340bd893661ea55ea3124f6de3c7a262a8b4abca0554b478b1e2ff90"
  },
  "kernelspec": {
   "display_name": "Python 2.7.17 64-bit",
   "language": "python",
   "name": "python3"
  },
  "language_info": {
   "codemirror_mode": {
    "name": "ipython",
    "version": 3
   },
   "file_extension": ".py",
   "mimetype": "text/x-python",
   "name": "python",
   "nbconvert_exporter": "python",
   "pygments_lexer": "ipython3",
   "version": "3.8.8"
  },
  "orig_nbformat": 4
 },
 "nbformat": 4,
 "nbformat_minor": 2
}
